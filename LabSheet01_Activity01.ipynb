{
 "cells": [
  {
   "cell_type": "markdown",
   "id": "7e3f60fb-3ece-4620-b1b3-aae2d361a0e2",
   "metadata": {},
   "source": [
    "### Imorting python libraries"
   ]
  },
  {
   "cell_type": "code",
   "execution_count": 4,
   "id": "b9d2718e-e099-4bf1-ac14-1ba0ed0c1b65",
   "metadata": {},
   "outputs": [],
   "source": [
    "import pandas as pd #import this library for data manipulation and analizing"
   ]
  },
  {
   "cell_type": "code",
   "execution_count": 6,
   "id": "45284c10-9bfd-48ae-b3dc-4be027fe1bec",
   "metadata": {},
   "outputs": [],
   "source": [
    "import numpy as np #import this library for support with arrays and matrices"
   ]
  },
  {
   "cell_type": "code",
   "execution_count": 9,
   "id": "30c67bfb-59b4-4055-a33b-0b69cd49e6d8",
   "metadata": {},
   "outputs": [],
   "source": [
    "from matplotlib import pyplot as plt #import this lobrary for data visualiztion and grapical representation"
   ]
  },
  {
   "cell_type": "markdown",
   "id": "9258703e-10be-4d11-8409-24b6640f55ce",
   "metadata": {},
   "source": [
    "### Load data into a DataFrame using Pandas"
   ]
  },
  {
   "cell_type": "code",
   "execution_count": 30,
   "id": "ca3d57a2-33f0-421a-94c4-8ee4a2ab3df2",
   "metadata": {},
   "outputs": [],
   "source": [
    "raw_data = pd.read_csv(\"loan.csv\") #import the .csv file's data for raw_data frame\n",
    "                                    #There is a header in this csv file then we don't need to call \"header = none\""
   ]
  },
  {
   "cell_type": "code",
   "execution_count": 32,
   "id": "4a83d24c-6d86-47a9-b5fb-9210e36e3dee",
   "metadata": {},
   "outputs": [
    {
     "data": {
      "text/html": [
       "<div>\n",
       "<style scoped>\n",
       "    .dataframe tbody tr th:only-of-type {\n",
       "        vertical-align: middle;\n",
       "    }\n",
       "\n",
       "    .dataframe tbody tr th {\n",
       "        vertical-align: top;\n",
       "    }\n",
       "\n",
       "    .dataframe thead th {\n",
       "        text-align: right;\n",
       "    }\n",
       "</style>\n",
       "<table border=\"1\" class=\"dataframe\">\n",
       "  <thead>\n",
       "    <tr style=\"text-align: right;\">\n",
       "      <th></th>\n",
       "      <th>id</th>\n",
       "      <th>member_id</th>\n",
       "      <th>loan_amnt</th>\n",
       "      <th>funded_amnt</th>\n",
       "      <th>funded_amnt_inv</th>\n",
       "      <th>term</th>\n",
       "      <th>int_rate</th>\n",
       "      <th>installment</th>\n",
       "      <th>grade</th>\n",
       "      <th>sub_grade</th>\n",
       "      <th>...</th>\n",
       "      <th>hardship_payoff_balance_amount</th>\n",
       "      <th>hardship_last_payment_amount</th>\n",
       "      <th>disbursement_method</th>\n",
       "      <th>debt_settlement_flag</th>\n",
       "      <th>debt_settlement_flag_date</th>\n",
       "      <th>settlement_status</th>\n",
       "      <th>settlement_date</th>\n",
       "      <th>settlement_amount</th>\n",
       "      <th>settlement_percentage</th>\n",
       "      <th>settlement_term</th>\n",
       "    </tr>\n",
       "  </thead>\n",
       "  <tbody>\n",
       "    <tr>\n",
       "      <th>0</th>\n",
       "      <td>NaN</td>\n",
       "      <td>NaN</td>\n",
       "      <td>2500</td>\n",
       "      <td>2500</td>\n",
       "      <td>2500</td>\n",
       "      <td>36 months</td>\n",
       "      <td>13.56</td>\n",
       "      <td>84.92</td>\n",
       "      <td>C</td>\n",
       "      <td>C1</td>\n",
       "      <td>...</td>\n",
       "      <td>NaN</td>\n",
       "      <td>NaN</td>\n",
       "      <td>Cash</td>\n",
       "      <td>N</td>\n",
       "      <td>NaN</td>\n",
       "      <td>NaN</td>\n",
       "      <td>NaN</td>\n",
       "      <td>NaN</td>\n",
       "      <td>NaN</td>\n",
       "      <td>NaN</td>\n",
       "    </tr>\n",
       "    <tr>\n",
       "      <th>1</th>\n",
       "      <td>NaN</td>\n",
       "      <td>NaN</td>\n",
       "      <td>30000</td>\n",
       "      <td>30000</td>\n",
       "      <td>30000</td>\n",
       "      <td>60 months</td>\n",
       "      <td>18.94</td>\n",
       "      <td>777.23</td>\n",
       "      <td>D</td>\n",
       "      <td>D2</td>\n",
       "      <td>...</td>\n",
       "      <td>NaN</td>\n",
       "      <td>NaN</td>\n",
       "      <td>Cash</td>\n",
       "      <td>N</td>\n",
       "      <td>NaN</td>\n",
       "      <td>NaN</td>\n",
       "      <td>NaN</td>\n",
       "      <td>NaN</td>\n",
       "      <td>NaN</td>\n",
       "      <td>NaN</td>\n",
       "    </tr>\n",
       "    <tr>\n",
       "      <th>2</th>\n",
       "      <td>NaN</td>\n",
       "      <td>NaN</td>\n",
       "      <td>5000</td>\n",
       "      <td>5000</td>\n",
       "      <td>5000</td>\n",
       "      <td>36 months</td>\n",
       "      <td>17.97</td>\n",
       "      <td>180.69</td>\n",
       "      <td>D</td>\n",
       "      <td>D1</td>\n",
       "      <td>...</td>\n",
       "      <td>NaN</td>\n",
       "      <td>NaN</td>\n",
       "      <td>Cash</td>\n",
       "      <td>N</td>\n",
       "      <td>NaN</td>\n",
       "      <td>NaN</td>\n",
       "      <td>NaN</td>\n",
       "      <td>NaN</td>\n",
       "      <td>NaN</td>\n",
       "      <td>NaN</td>\n",
       "    </tr>\n",
       "    <tr>\n",
       "      <th>3</th>\n",
       "      <td>NaN</td>\n",
       "      <td>NaN</td>\n",
       "      <td>4000</td>\n",
       "      <td>4000</td>\n",
       "      <td>4000</td>\n",
       "      <td>36 months</td>\n",
       "      <td>18.94</td>\n",
       "      <td>146.51</td>\n",
       "      <td>D</td>\n",
       "      <td>D2</td>\n",
       "      <td>...</td>\n",
       "      <td>NaN</td>\n",
       "      <td>NaN</td>\n",
       "      <td>Cash</td>\n",
       "      <td>N</td>\n",
       "      <td>NaN</td>\n",
       "      <td>NaN</td>\n",
       "      <td>NaN</td>\n",
       "      <td>NaN</td>\n",
       "      <td>NaN</td>\n",
       "      <td>NaN</td>\n",
       "    </tr>\n",
       "    <tr>\n",
       "      <th>4</th>\n",
       "      <td>NaN</td>\n",
       "      <td>NaN</td>\n",
       "      <td>30000</td>\n",
       "      <td>30000</td>\n",
       "      <td>30000</td>\n",
       "      <td>60 months</td>\n",
       "      <td>16.14</td>\n",
       "      <td>731.78</td>\n",
       "      <td>C</td>\n",
       "      <td>C4</td>\n",
       "      <td>...</td>\n",
       "      <td>NaN</td>\n",
       "      <td>NaN</td>\n",
       "      <td>Cash</td>\n",
       "      <td>N</td>\n",
       "      <td>NaN</td>\n",
       "      <td>NaN</td>\n",
       "      <td>NaN</td>\n",
       "      <td>NaN</td>\n",
       "      <td>NaN</td>\n",
       "      <td>NaN</td>\n",
       "    </tr>\n",
       "    <tr>\n",
       "      <th>...</th>\n",
       "      <td>...</td>\n",
       "      <td>...</td>\n",
       "      <td>...</td>\n",
       "      <td>...</td>\n",
       "      <td>...</td>\n",
       "      <td>...</td>\n",
       "      <td>...</td>\n",
       "      <td>...</td>\n",
       "      <td>...</td>\n",
       "      <td>...</td>\n",
       "      <td>...</td>\n",
       "      <td>...</td>\n",
       "      <td>...</td>\n",
       "      <td>...</td>\n",
       "      <td>...</td>\n",
       "      <td>...</td>\n",
       "      <td>...</td>\n",
       "      <td>...</td>\n",
       "      <td>...</td>\n",
       "      <td>...</td>\n",
       "      <td>...</td>\n",
       "    </tr>\n",
       "    <tr>\n",
       "      <th>19995</th>\n",
       "      <td>NaN</td>\n",
       "      <td>NaN</td>\n",
       "      <td>16000</td>\n",
       "      <td>16000</td>\n",
       "      <td>16000</td>\n",
       "      <td>60 months</td>\n",
       "      <td>16.14</td>\n",
       "      <td>390.29</td>\n",
       "      <td>C</td>\n",
       "      <td>C4</td>\n",
       "      <td>...</td>\n",
       "      <td>NaN</td>\n",
       "      <td>NaN</td>\n",
       "      <td>Cash</td>\n",
       "      <td>N</td>\n",
       "      <td>NaN</td>\n",
       "      <td>NaN</td>\n",
       "      <td>NaN</td>\n",
       "      <td>NaN</td>\n",
       "      <td>NaN</td>\n",
       "      <td>NaN</td>\n",
       "    </tr>\n",
       "    <tr>\n",
       "      <th>19996</th>\n",
       "      <td>NaN</td>\n",
       "      <td>NaN</td>\n",
       "      <td>10000</td>\n",
       "      <td>10000</td>\n",
       "      <td>10000</td>\n",
       "      <td>36 months</td>\n",
       "      <td>10.72</td>\n",
       "      <td>326.07</td>\n",
       "      <td>B</td>\n",
       "      <td>B2</td>\n",
       "      <td>...</td>\n",
       "      <td>NaN</td>\n",
       "      <td>NaN</td>\n",
       "      <td>Cash</td>\n",
       "      <td>N</td>\n",
       "      <td>NaN</td>\n",
       "      <td>NaN</td>\n",
       "      <td>NaN</td>\n",
       "      <td>NaN</td>\n",
       "      <td>NaN</td>\n",
       "      <td>NaN</td>\n",
       "    </tr>\n",
       "    <tr>\n",
       "      <th>19997</th>\n",
       "      <td>NaN</td>\n",
       "      <td>NaN</td>\n",
       "      <td>3625</td>\n",
       "      <td>3625</td>\n",
       "      <td>3625</td>\n",
       "      <td>36 months</td>\n",
       "      <td>20.89</td>\n",
       "      <td>136.37</td>\n",
       "      <td>D</td>\n",
       "      <td>D4</td>\n",
       "      <td>...</td>\n",
       "      <td>NaN</td>\n",
       "      <td>NaN</td>\n",
       "      <td>Cash</td>\n",
       "      <td>N</td>\n",
       "      <td>NaN</td>\n",
       "      <td>NaN</td>\n",
       "      <td>NaN</td>\n",
       "      <td>NaN</td>\n",
       "      <td>NaN</td>\n",
       "      <td>NaN</td>\n",
       "    </tr>\n",
       "    <tr>\n",
       "      <th>19998</th>\n",
       "      <td>NaN</td>\n",
       "      <td>NaN</td>\n",
       "      <td>24000</td>\n",
       "      <td>24000</td>\n",
       "      <td>24000</td>\n",
       "      <td>60 months</td>\n",
       "      <td>12.98</td>\n",
       "      <td>545.83</td>\n",
       "      <td>B</td>\n",
       "      <td>B5</td>\n",
       "      <td>...</td>\n",
       "      <td>NaN</td>\n",
       "      <td>NaN</td>\n",
       "      <td>Cash</td>\n",
       "      <td>N</td>\n",
       "      <td>NaN</td>\n",
       "      <td>NaN</td>\n",
       "      <td>NaN</td>\n",
       "      <td>NaN</td>\n",
       "      <td>NaN</td>\n",
       "      <td>NaN</td>\n",
       "    </tr>\n",
       "    <tr>\n",
       "      <th>19999</th>\n",
       "      <td>NaN</td>\n",
       "      <td>NaN</td>\n",
       "      <td>24000</td>\n",
       "      <td>24000</td>\n",
       "      <td>24000</td>\n",
       "      <td>36 months</td>\n",
       "      <td>11.31</td>\n",
       "      <td>789.26</td>\n",
       "      <td>B</td>\n",
       "      <td>B3</td>\n",
       "      <td>...</td>\n",
       "      <td>NaN</td>\n",
       "      <td>NaN</td>\n",
       "      <td>Cash</td>\n",
       "      <td>N</td>\n",
       "      <td>NaN</td>\n",
       "      <td>NaN</td>\n",
       "      <td>NaN</td>\n",
       "      <td>NaN</td>\n",
       "      <td>NaN</td>\n",
       "      <td>NaN</td>\n",
       "    </tr>\n",
       "  </tbody>\n",
       "</table>\n",
       "<p>20000 rows × 142 columns</p>\n",
       "</div>"
      ],
      "text/plain": [
       "       id  member_id  loan_amnt  funded_amnt  funded_amnt_inv        term  \\\n",
       "0     NaN        NaN       2500         2500             2500   36 months   \n",
       "1     NaN        NaN      30000        30000            30000   60 months   \n",
       "2     NaN        NaN       5000         5000             5000   36 months   \n",
       "3     NaN        NaN       4000         4000             4000   36 months   \n",
       "4     NaN        NaN      30000        30000            30000   60 months   \n",
       "...    ..        ...        ...          ...              ...         ...   \n",
       "19995 NaN        NaN      16000        16000            16000   60 months   \n",
       "19996 NaN        NaN      10000        10000            10000   36 months   \n",
       "19997 NaN        NaN       3625         3625             3625   36 months   \n",
       "19998 NaN        NaN      24000        24000            24000   60 months   \n",
       "19999 NaN        NaN      24000        24000            24000   36 months   \n",
       "\n",
       "       int_rate  installment grade sub_grade  ...  \\\n",
       "0         13.56        84.92     C        C1  ...   \n",
       "1         18.94       777.23     D        D2  ...   \n",
       "2         17.97       180.69     D        D1  ...   \n",
       "3         18.94       146.51     D        D2  ...   \n",
       "4         16.14       731.78     C        C4  ...   \n",
       "...         ...          ...   ...       ...  ...   \n",
       "19995     16.14       390.29     C        C4  ...   \n",
       "19996     10.72       326.07     B        B2  ...   \n",
       "19997     20.89       136.37     D        D4  ...   \n",
       "19998     12.98       545.83     B        B5  ...   \n",
       "19999     11.31       789.26     B        B3  ...   \n",
       "\n",
       "      hardship_payoff_balance_amount hardship_last_payment_amount  \\\n",
       "0                                NaN                          NaN   \n",
       "1                                NaN                          NaN   \n",
       "2                                NaN                          NaN   \n",
       "3                                NaN                          NaN   \n",
       "4                                NaN                          NaN   \n",
       "...                              ...                          ...   \n",
       "19995                            NaN                          NaN   \n",
       "19996                            NaN                          NaN   \n",
       "19997                            NaN                          NaN   \n",
       "19998                            NaN                          NaN   \n",
       "19999                            NaN                          NaN   \n",
       "\n",
       "      disbursement_method  debt_settlement_flag debt_settlement_flag_date  \\\n",
       "0                    Cash                     N                       NaN   \n",
       "1                    Cash                     N                       NaN   \n",
       "2                    Cash                     N                       NaN   \n",
       "3                    Cash                     N                       NaN   \n",
       "4                    Cash                     N                       NaN   \n",
       "...                   ...                   ...                       ...   \n",
       "19995                Cash                     N                       NaN   \n",
       "19996                Cash                     N                       NaN   \n",
       "19997                Cash                     N                       NaN   \n",
       "19998                Cash                     N                       NaN   \n",
       "19999                Cash                     N                       NaN   \n",
       "\n",
       "      settlement_status settlement_date settlement_amount  \\\n",
       "0                   NaN             NaN               NaN   \n",
       "1                   NaN             NaN               NaN   \n",
       "2                   NaN             NaN               NaN   \n",
       "3                   NaN             NaN               NaN   \n",
       "4                   NaN             NaN               NaN   \n",
       "...                 ...             ...               ...   \n",
       "19995               NaN             NaN               NaN   \n",
       "19996               NaN             NaN               NaN   \n",
       "19997               NaN             NaN               NaN   \n",
       "19998               NaN             NaN               NaN   \n",
       "19999               NaN             NaN               NaN   \n",
       "\n",
       "       settlement_percentage  settlement_term  \n",
       "0                        NaN              NaN  \n",
       "1                        NaN              NaN  \n",
       "2                        NaN              NaN  \n",
       "3                        NaN              NaN  \n",
       "4                        NaN              NaN  \n",
       "...                      ...              ...  \n",
       "19995                    NaN              NaN  \n",
       "19996                    NaN              NaN  \n",
       "19997                    NaN              NaN  \n",
       "19998                    NaN              NaN  \n",
       "19999                    NaN              NaN  \n",
       "\n",
       "[20000 rows x 142 columns]"
      ]
     },
     "execution_count": 32,
     "metadata": {},
     "output_type": "execute_result"
    }
   ],
   "source": [
    "raw_data"
   ]
  },
  {
   "cell_type": "code",
   "execution_count": 34,
   "id": "74216475-c86b-40f9-a6be-f02ebf3edff1",
   "metadata": {},
   "outputs": [
    {
     "data": {
      "text/html": [
       "<div>\n",
       "<style scoped>\n",
       "    .dataframe tbody tr th:only-of-type {\n",
       "        vertical-align: middle;\n",
       "    }\n",
       "\n",
       "    .dataframe tbody tr th {\n",
       "        vertical-align: top;\n",
       "    }\n",
       "\n",
       "    .dataframe thead th {\n",
       "        text-align: right;\n",
       "    }\n",
       "</style>\n",
       "<table border=\"1\" class=\"dataframe\">\n",
       "  <thead>\n",
       "    <tr style=\"text-align: right;\">\n",
       "      <th></th>\n",
       "      <th>id</th>\n",
       "      <th>member_id</th>\n",
       "      <th>loan_amnt</th>\n",
       "      <th>funded_amnt</th>\n",
       "      <th>funded_amnt_inv</th>\n",
       "      <th>term</th>\n",
       "      <th>int_rate</th>\n",
       "      <th>installment</th>\n",
       "      <th>grade</th>\n",
       "      <th>sub_grade</th>\n",
       "      <th>...</th>\n",
       "      <th>hardship_payoff_balance_amount</th>\n",
       "      <th>hardship_last_payment_amount</th>\n",
       "      <th>disbursement_method</th>\n",
       "      <th>debt_settlement_flag</th>\n",
       "      <th>debt_settlement_flag_date</th>\n",
       "      <th>settlement_status</th>\n",
       "      <th>settlement_date</th>\n",
       "      <th>settlement_amount</th>\n",
       "      <th>settlement_percentage</th>\n",
       "      <th>settlement_term</th>\n",
       "    </tr>\n",
       "  </thead>\n",
       "  <tbody>\n",
       "    <tr>\n",
       "      <th>0</th>\n",
       "      <td>NaN</td>\n",
       "      <td>NaN</td>\n",
       "      <td>2500</td>\n",
       "      <td>2500</td>\n",
       "      <td>2500</td>\n",
       "      <td>36 months</td>\n",
       "      <td>13.56</td>\n",
       "      <td>84.92</td>\n",
       "      <td>C</td>\n",
       "      <td>C1</td>\n",
       "      <td>...</td>\n",
       "      <td>NaN</td>\n",
       "      <td>NaN</td>\n",
       "      <td>Cash</td>\n",
       "      <td>N</td>\n",
       "      <td>NaN</td>\n",
       "      <td>NaN</td>\n",
       "      <td>NaN</td>\n",
       "      <td>NaN</td>\n",
       "      <td>NaN</td>\n",
       "      <td>NaN</td>\n",
       "    </tr>\n",
       "    <tr>\n",
       "      <th>1</th>\n",
       "      <td>NaN</td>\n",
       "      <td>NaN</td>\n",
       "      <td>30000</td>\n",
       "      <td>30000</td>\n",
       "      <td>30000</td>\n",
       "      <td>60 months</td>\n",
       "      <td>18.94</td>\n",
       "      <td>777.23</td>\n",
       "      <td>D</td>\n",
       "      <td>D2</td>\n",
       "      <td>...</td>\n",
       "      <td>NaN</td>\n",
       "      <td>NaN</td>\n",
       "      <td>Cash</td>\n",
       "      <td>N</td>\n",
       "      <td>NaN</td>\n",
       "      <td>NaN</td>\n",
       "      <td>NaN</td>\n",
       "      <td>NaN</td>\n",
       "      <td>NaN</td>\n",
       "      <td>NaN</td>\n",
       "    </tr>\n",
       "    <tr>\n",
       "      <th>2</th>\n",
       "      <td>NaN</td>\n",
       "      <td>NaN</td>\n",
       "      <td>5000</td>\n",
       "      <td>5000</td>\n",
       "      <td>5000</td>\n",
       "      <td>36 months</td>\n",
       "      <td>17.97</td>\n",
       "      <td>180.69</td>\n",
       "      <td>D</td>\n",
       "      <td>D1</td>\n",
       "      <td>...</td>\n",
       "      <td>NaN</td>\n",
       "      <td>NaN</td>\n",
       "      <td>Cash</td>\n",
       "      <td>N</td>\n",
       "      <td>NaN</td>\n",
       "      <td>NaN</td>\n",
       "      <td>NaN</td>\n",
       "      <td>NaN</td>\n",
       "      <td>NaN</td>\n",
       "      <td>NaN</td>\n",
       "    </tr>\n",
       "    <tr>\n",
       "      <th>3</th>\n",
       "      <td>NaN</td>\n",
       "      <td>NaN</td>\n",
       "      <td>4000</td>\n",
       "      <td>4000</td>\n",
       "      <td>4000</td>\n",
       "      <td>36 months</td>\n",
       "      <td>18.94</td>\n",
       "      <td>146.51</td>\n",
       "      <td>D</td>\n",
       "      <td>D2</td>\n",
       "      <td>...</td>\n",
       "      <td>NaN</td>\n",
       "      <td>NaN</td>\n",
       "      <td>Cash</td>\n",
       "      <td>N</td>\n",
       "      <td>NaN</td>\n",
       "      <td>NaN</td>\n",
       "      <td>NaN</td>\n",
       "      <td>NaN</td>\n",
       "      <td>NaN</td>\n",
       "      <td>NaN</td>\n",
       "    </tr>\n",
       "    <tr>\n",
       "      <th>4</th>\n",
       "      <td>NaN</td>\n",
       "      <td>NaN</td>\n",
       "      <td>30000</td>\n",
       "      <td>30000</td>\n",
       "      <td>30000</td>\n",
       "      <td>60 months</td>\n",
       "      <td>16.14</td>\n",
       "      <td>731.78</td>\n",
       "      <td>C</td>\n",
       "      <td>C4</td>\n",
       "      <td>...</td>\n",
       "      <td>NaN</td>\n",
       "      <td>NaN</td>\n",
       "      <td>Cash</td>\n",
       "      <td>N</td>\n",
       "      <td>NaN</td>\n",
       "      <td>NaN</td>\n",
       "      <td>NaN</td>\n",
       "      <td>NaN</td>\n",
       "      <td>NaN</td>\n",
       "      <td>NaN</td>\n",
       "    </tr>\n",
       "  </tbody>\n",
       "</table>\n",
       "<p>5 rows × 142 columns</p>\n",
       "</div>"
      ],
      "text/plain": [
       "   id  member_id  loan_amnt  funded_amnt  funded_amnt_inv        term  \\\n",
       "0 NaN        NaN       2500         2500             2500   36 months   \n",
       "1 NaN        NaN      30000        30000            30000   60 months   \n",
       "2 NaN        NaN       5000         5000             5000   36 months   \n",
       "3 NaN        NaN       4000         4000             4000   36 months   \n",
       "4 NaN        NaN      30000        30000            30000   60 months   \n",
       "\n",
       "   int_rate  installment grade sub_grade  ... hardship_payoff_balance_amount  \\\n",
       "0     13.56        84.92     C        C1  ...                            NaN   \n",
       "1     18.94       777.23     D        D2  ...                            NaN   \n",
       "2     17.97       180.69     D        D1  ...                            NaN   \n",
       "3     18.94       146.51     D        D2  ...                            NaN   \n",
       "4     16.14       731.78     C        C4  ...                            NaN   \n",
       "\n",
       "  hardship_last_payment_amount disbursement_method  debt_settlement_flag  \\\n",
       "0                          NaN                Cash                     N   \n",
       "1                          NaN                Cash                     N   \n",
       "2                          NaN                Cash                     N   \n",
       "3                          NaN                Cash                     N   \n",
       "4                          NaN                Cash                     N   \n",
       "\n",
       "  debt_settlement_flag_date settlement_status settlement_date  \\\n",
       "0                       NaN               NaN             NaN   \n",
       "1                       NaN               NaN             NaN   \n",
       "2                       NaN               NaN             NaN   \n",
       "3                       NaN               NaN             NaN   \n",
       "4                       NaN               NaN             NaN   \n",
       "\n",
       "  settlement_amount  settlement_percentage  settlement_term  \n",
       "0               NaN                    NaN              NaN  \n",
       "1               NaN                    NaN              NaN  \n",
       "2               NaN                    NaN              NaN  \n",
       "3               NaN                    NaN              NaN  \n",
       "4               NaN                    NaN              NaN  \n",
       "\n",
       "[5 rows x 142 columns]"
      ]
     },
     "execution_count": 34,
     "metadata": {},
     "output_type": "execute_result"
    }
   ],
   "source": [
    "raw_data.head() #print the first five raws, if you want last five raws use \"tail()\""
   ]
  },
  {
   "cell_type": "markdown",
   "id": "9c71a84d-f385-493f-ba8d-04f6687fa41f",
   "metadata": {},
   "source": [
    "### Exploring the data set"
   ]
  },
  {
   "cell_type": "code",
   "execution_count": 36,
   "id": "9ba52905-c87c-4bae-b93e-303bc7529a98",
   "metadata": {},
   "outputs": [
    {
     "data": {
      "text/plain": [
       "(20000, 142)"
      ]
     },
     "execution_count": 36,
     "metadata": {},
     "output_type": "execute_result"
    }
   ],
   "source": [
    "raw_data.shape #findout the total number of raws and columns"
   ]
  },
  {
   "cell_type": "code",
   "execution_count": 38,
   "id": "afdc2ceb-dde3-401e-935d-c34039e14fc6",
   "metadata": {},
   "outputs": [
    {
     "data": {
      "text/plain": [
       "id                       float64\n",
       "member_id                float64\n",
       "loan_amnt                  int64\n",
       "funded_amnt                int64\n",
       "funded_amnt_inv            int64\n",
       "                          ...   \n",
       "settlement_status        float64\n",
       "settlement_date          float64\n",
       "settlement_amount        float64\n",
       "settlement_percentage    float64\n",
       "settlement_term          float64\n",
       "Length: 142, dtype: object"
      ]
     },
     "execution_count": 38,
     "metadata": {},
     "output_type": "execute_result"
    }
   ],
   "source": [
    "raw_data.dtypes #explore the data types of the columns"
   ]
  },
  {
   "cell_type": "code",
   "execution_count": 40,
   "id": "0f95fb1a-305f-46d4-8bfc-a1590b0cf9dc",
   "metadata": {},
   "outputs": [
    {
     "data": {
      "text/plain": [
       "count    20000.000000\n",
       "mean     16111.383750\n",
       "std      10369.193761\n",
       "min       1000.000000\n",
       "25%       8000.000000\n",
       "50%      14000.000000\n",
       "75%      22000.000000\n",
       "max      40000.000000\n",
       "Name: loan_amnt, dtype: float64"
      ]
     },
     "execution_count": 40,
     "metadata": {},
     "output_type": "execute_result"
    }
   ],
   "source": [
    "raw_data['loan_amnt'].describe() #explore a particular column in the data frame "
   ]
  },
  {
   "cell_type": "markdown",
   "id": "8620d9c8-bd88-4fc2-a651-8bc15d6973ae",
   "metadata": {},
   "source": [
    "### Removing Irrelevent columns using drop method"
   ]
  },
  {
   "cell_type": "code",
   "execution_count": 42,
   "id": "d7ce420e-dc18-4ff8-bee5-4d61adee4280",
   "metadata": {},
   "outputs": [],
   "source": [
    "raw_data= raw_data.drop(['zip_code', 'policy_code', 'application_type', 'last_credit_pull_d','verification_status','pymnt_plan','funded_amnt_inv', 'sub_grade', 'out_prncp','out_prncp_inv', 'total_pymnt_inv', 'total_pymnt', 'total_pymnt_inv', 'total_rec_prncp','total_rec_int', 'total_rec_late_fee', 'recoveries', 'collection_recovery_fee', 'last_pymnt_d', 'last_pymnt_amnt', 'initial_list_status'], axis =1)"
   ]
  },
  {
   "cell_type": "code",
   "execution_count": 44,
   "id": "5dc2ce4f-abee-4af8-8ab5-04f8811b79a7",
   "metadata": {},
   "outputs": [
    {
     "data": {
      "text/plain": [
       "(20000, 122)"
      ]
     },
     "execution_count": 44,
     "metadata": {},
     "output_type": "execute_result"
    }
   ],
   "source": [
    "raw_data.shape #checking the data set after removing columns"
   ]
  },
  {
   "cell_type": "markdown",
   "id": "75d36f4e-0f8d-4e28-b2f1-04eddec1897a",
   "metadata": {},
   "source": [
    "### Dealing with missing values"
   ]
  },
  {
   "cell_type": "code",
   "execution_count": 48,
   "id": "f89bd0de-a04d-4bd7-8fc5-210d9d7dd505",
   "metadata": {},
   "outputs": [
    {
     "name": "stdout",
     "output_type": "stream",
     "text": [
      "Column\t\t\t\t\t Null Values%\n",
      "id\t\t\t\t\t 100.0\n",
      "member_id\t\t\t\t\t 100.0\n",
      "url\t\t\t\t\t 100.0\n",
      "desc\t\t\t\t\t 100.0\n",
      "mths_since_last_delinq\t\t\t\t\t 56.375\n",
      "mths_since_last_record\t\t\t\t\t 88.41\n",
      "mths_since_last_major_derog\t\t\t\t\t 77.47\n",
      "annual_inc_joint\t\t\t\t\t 87.845\n",
      "dti_joint\t\t\t\t\t 87.845\n",
      "verification_status_joint\t\t\t\t\t 89.17\n",
      "mths_since_recent_bc_dlq\t\t\t\t\t 80.36\n",
      "mths_since_recent_revol_delinq\t\t\t\t\t 71.3\n",
      "revol_bal_joint\t\t\t\t\t 87.845\n",
      "sec_app_earliest_cr_line\t\t\t\t\t 87.845\n",
      "sec_app_inq_last_6mths\t\t\t\t\t 87.845\n",
      "sec_app_mort_acc\t\t\t\t\t 87.845\n",
      "sec_app_open_acc\t\t\t\t\t 87.845\n",
      "sec_app_revol_util\t\t\t\t\t 88.0\n",
      "sec_app_open_act_il\t\t\t\t\t 87.845\n",
      "sec_app_num_rev_accts\t\t\t\t\t 87.845\n",
      "sec_app_chargeoff_within_12_mths\t\t\t\t\t 87.845\n",
      "sec_app_collections_12_mths_ex_med\t\t\t\t\t 87.845\n",
      "sec_app_mths_since_last_major_derog\t\t\t\t\t 96.295\n",
      "hardship_type\t\t\t\t\t 100.0\n",
      "hardship_reason\t\t\t\t\t 100.0\n",
      "hardship_status\t\t\t\t\t 100.0\n",
      "deferral_term\t\t\t\t\t 100.0\n",
      "hardship_amount\t\t\t\t\t 100.0\n",
      "hardship_start_date\t\t\t\t\t 100.0\n",
      "hardship_end_date\t\t\t\t\t 100.0\n",
      "payment_plan_start_date\t\t\t\t\t 100.0\n",
      "hardship_length\t\t\t\t\t 100.0\n",
      "hardship_dpd\t\t\t\t\t 100.0\n",
      "hardship_loan_status\t\t\t\t\t 100.0\n",
      "orig_projected_additional_accrued_interest\t\t\t\t\t 100.0\n",
      "hardship_payoff_balance_amount\t\t\t\t\t 100.0\n",
      "hardship_last_payment_amount\t\t\t\t\t 100.0\n",
      "debt_settlement_flag_date\t\t\t\t\t 100.0\n",
      "settlement_status\t\t\t\t\t 100.0\n",
      "settlement_date\t\t\t\t\t 100.0\n",
      "settlement_amount\t\t\t\t\t 100.0\n",
      "settlement_percentage\t\t\t\t\t 100.0\n",
      "settlement_term\t\t\t\t\t 100.0\n",
      "A total of 43 deleted !\n"
     ]
    }
   ],
   "source": [
    "col_num=0 \n",
    "TotalObjects = raw_data.shape[0] \n",
    "print (\"Column\\t\\t\\t\\t\\t Null Values%\") \n",
    "for x in raw_data: \n",
    "    nullCount = raw_data[x].isnull().sum(); \n",
    "    nullPercent = nullCount*100 / (TotalObjects) \n",
    "    if nullCount > 0 and nullPercent > 20 : \n",
    "        col_num=col_num+1 \n",
    "        raw_data.drop(x, axis=1,inplace=True) \n",
    "        print(str(x)+\"\\t\\t\\t\\t\\t \"+str(nullPercent)) \n",
    "print (\"A total of \"+str(col_num)+\" deleted !\")"
   ]
  },
  {
   "cell_type": "code",
   "execution_count": 54,
   "id": "72fded26-cee2-43c0-bd49-5753d76b804d",
   "metadata": {},
   "outputs": [],
   "source": [
    "#used \".isnull()\" method for find empty cells"
   ]
  },
  {
   "cell_type": "code",
   "execution_count": 52,
   "id": "f089c707-cf1d-4682-8bc4-d75a5d3c3e01",
   "metadata": {},
   "outputs": [
    {
     "data": {
      "text/plain": [
       "(20000, 79)"
      ]
     },
     "execution_count": 52,
     "metadata": {},
     "output_type": "execute_result"
    }
   ],
   "source": [
    "raw_data.shape #after the deletion checking "
   ]
  },
  {
   "cell_type": "markdown",
   "id": "bfa2328e-5314-4337-adec-8a6d5faadeb7",
   "metadata": {},
   "source": [
    "### Filing empty cells"
   ]
  },
  {
   "cell_type": "code",
   "execution_count": 67,
   "id": "b43fc5ef-ed18-4283-9ed6-b36aa620488d",
   "metadata": {},
   "outputs": [],
   "source": [
    "# Method 01"
   ]
  },
  {
   "cell_type": "code",
   "execution_count": 59,
   "id": "d4bba47d-5af2-464b-b9fb-6c9afdf8b2ec",
   "metadata": {},
   "outputs": [
    {
     "data": {
      "text/plain": [
       "3319"
      ]
     },
     "execution_count": 59,
     "metadata": {},
     "output_type": "execute_result"
    }
   ],
   "source": [
    "raw_data['emp_title'].isnull().sum() #checking empty cells in \"emp_title\" coulmm"
   ]
  },
  {
   "cell_type": "code",
   "execution_count": 63,
   "id": "fd04fe18-6ce8-470e-95b6-cf5d97d77ff5",
   "metadata": {},
   "outputs": [],
   "source": [
    "raw_data['emp_title'].fillna('Unknown',inplace = True) #filling empty cells(NaN values)"
   ]
  },
  {
   "cell_type": "code",
   "execution_count": 65,
   "id": "cc5d65cb-3e81-429b-a2b5-87b479b9dd84",
   "metadata": {},
   "outputs": [
    {
     "data": {
      "text/plain": [
       "0"
      ]
     },
     "execution_count": 65,
     "metadata": {},
     "output_type": "execute_result"
    }
   ],
   "source": [
    "raw_data['emp_title'].isnull().sum() #recheck the \"emp_title\" coulmm"
   ]
  },
  {
   "cell_type": "code",
   "execution_count": null,
   "id": "9e05d7fd-9e8e-4690-a124-c6d5b1cb9a53",
   "metadata": {},
   "outputs": [],
   "source": [
    "# Method 02"
   ]
  },
  {
   "cell_type": "code",
   "execution_count": 75,
   "id": "e0d07fc5-69dd-43a1-9bc0-780300300729",
   "metadata": {},
   "outputs": [
    {
     "data": {
      "text/plain": [
       "0"
      ]
     },
     "execution_count": 75,
     "metadata": {},
     "output_type": "execute_result"
    }
   ],
   "source": [
    "raw_data['dti'].isnull().sum() #check the \"dti\" coulmm"
   ]
  },
  {
   "cell_type": "code",
   "execution_count": 77,
   "id": "3b69be29-046a-44b0-8fbb-bf79d116745d",
   "metadata": {},
   "outputs": [
    {
     "name": "stderr",
     "output_type": "stream",
     "text": [
      "C:\\Users\\sithu\\AppData\\Local\\Temp\\ipykernel_1636\\2851525927.py:1: FutureWarning: A value is trying to be set on a copy of a DataFrame or Series through chained assignment using an inplace method.\n",
      "The behavior will change in pandas 3.0. This inplace method will never work because the intermediate object on which we are setting values always behaves as a copy.\n",
      "\n",
      "For example, when doing 'df[col].method(value, inplace=True)', try using 'df.method({col: value}, inplace=True)' or df[col] = df[col].method(value) instead, to perform the operation inplace on the original object.\n",
      "\n",
      "\n",
      "  raw_data['dti'].fillna(0,inplace=True)\n"
     ]
    }
   ],
   "source": [
    "raw_data['dti'].fillna(0,inplace=True)"
   ]
  },
  {
   "cell_type": "code",
   "execution_count": 79,
   "id": "19601d3c-1b82-431b-8ca8-8af2e73f27c2",
   "metadata": {},
   "outputs": [
    {
     "data": {
      "text/plain": [
       "0"
      ]
     },
     "execution_count": 79,
     "metadata": {},
     "output_type": "execute_result"
    }
   ],
   "source": [
    "raw_data['dti'].isnull().sum() #recheck the \"dti\" coulmm"
   ]
  },
  {
   "cell_type": "code",
   "execution_count": 81,
   "id": "86950015-4383-42f0-9bb2-93f7389ece13",
   "metadata": {},
   "outputs": [],
   "source": [
    "# Method 03"
   ]
  },
  {
   "cell_type": "code",
   "execution_count": 83,
   "id": "a75642e5-9bc3-458c-bdf9-151b5c90319e",
   "metadata": {},
   "outputs": [
    {
     "data": {
      "text/plain": [
       "21"
      ]
     },
     "execution_count": 83,
     "metadata": {},
     "output_type": "execute_result"
    }
   ],
   "source": [
    "raw_data['revol_util'].isnull().sum() #check the \"revol_util\" coulmm"
   ]
  },
  {
   "cell_type": "code",
   "execution_count": 85,
   "id": "ab0a1447-969e-432d-bf92-a381751fdad2",
   "metadata": {},
   "outputs": [
    {
     "name": "stderr",
     "output_type": "stream",
     "text": [
      "C:\\Users\\sithu\\AppData\\Local\\Temp\\ipykernel_1636\\3558067413.py:1: FutureWarning: A value is trying to be set on a copy of a DataFrame or Series through chained assignment using an inplace method.\n",
      "The behavior will change in pandas 3.0. This inplace method will never work because the intermediate object on which we are setting values always behaves as a copy.\n",
      "\n",
      "For example, when doing 'df[col].method(value, inplace=True)', try using 'df.method({col: value}, inplace=True)' or df[col] = df[col].method(value) instead, to perform the operation inplace on the original object.\n",
      "\n",
      "\n",
      "  raw_data['revol_util'].fillna(raw_data['revol_util'].mean(),inplace = True)\n"
     ]
    }
   ],
   "source": [
    "raw_data['revol_util'].fillna(raw_data['revol_util'].mean(),inplace = True)"
   ]
  },
  {
   "cell_type": "code",
   "execution_count": 87,
   "id": "de8602b8-6025-483a-a289-b09da82cec78",
   "metadata": {},
   "outputs": [
    {
     "data": {
      "text/plain": [
       "0"
      ]
     },
     "execution_count": 87,
     "metadata": {},
     "output_type": "execute_result"
    }
   ],
   "source": [
    "raw_data['revol_util'].isnull().sum() #recheck the \"revol_util\" coulmm"
   ]
  },
  {
   "cell_type": "code",
   "execution_count": 95,
   "id": "017e1eaa-db5a-4bf5-affd-a9deaf84b306",
   "metadata": {},
   "outputs": [
    {
     "name": "stderr",
     "output_type": "stream",
     "text": [
      "C:\\Users\\sithu\\AppData\\Local\\Temp\\ipykernel_1636\\3320558054.py:1: FutureWarning: A value is trying to be set on a copy of a DataFrame or Series through chained assignment using an inplace method.\n",
      "The behavior will change in pandas 3.0. This inplace method will never work because the intermediate object on which we are setting values always behaves as a copy.\n",
      "\n",
      "For example, when doing 'df[col].method(value, inplace=True)', try using 'df.method({col: value}, inplace=True)' or df[col] = df[col].method(value) instead, to perform the operation inplace on the original object.\n",
      "\n",
      "\n",
      "  raw_data['next_pymnt_d'].fillna('Complted',inplace = True)\n"
     ]
    }
   ],
   "source": [
    "raw_data['next_pymnt_d'].fillna('Complted',inplace = True)"
   ]
  },
  {
   "cell_type": "code",
   "execution_count": 99,
   "id": "b48cd39b-a61f-4b02-a7ca-765fbc5299d7",
   "metadata": {},
   "outputs": [
    {
     "name": "stderr",
     "output_type": "stream",
     "text": [
      "C:\\Users\\sithu\\AppData\\Local\\Temp\\ipykernel_1636\\3323639719.py:1: FutureWarning: A value is trying to be set on a copy of a DataFrame or Series through chained assignment using an inplace method.\n",
      "The behavior will change in pandas 3.0. This inplace method will never work because the intermediate object on which we are setting values always behaves as a copy.\n",
      "\n",
      "For example, when doing 'df[col].method(value, inplace=True)', try using 'df.method({col: value}, inplace=True)' or df[col] = df[col].method(value) instead, to perform the operation inplace on the original object.\n",
      "\n",
      "\n",
      "  raw_data['mths_since_rcnt_il'].fillna(0,inplace=True)\n",
      "C:\\Users\\sithu\\AppData\\Local\\Temp\\ipykernel_1636\\3323639719.py:2: FutureWarning: A value is trying to be set on a copy of a DataFrame or Series through chained assignment using an inplace method.\n",
      "The behavior will change in pandas 3.0. This inplace method will never work because the intermediate object on which we are setting values always behaves as a copy.\n",
      "\n",
      "For example, when doing 'df[col].method(value, inplace=True)', try using 'df.method({col: value}, inplace=True)' or df[col] = df[col].method(value) instead, to perform the operation inplace on the original object.\n",
      "\n",
      "\n",
      "  raw_data['mo_sin_old_il_acct'].fillna(0,inplace=True)\n",
      "C:\\Users\\sithu\\AppData\\Local\\Temp\\ipykernel_1636\\3323639719.py:3: FutureWarning: A value is trying to be set on a copy of a DataFrame or Series through chained assignment using an inplace method.\n",
      "The behavior will change in pandas 3.0. This inplace method will never work because the intermediate object on which we are setting values always behaves as a copy.\n",
      "\n",
      "For example, when doing 'df[col].method(value, inplace=True)', try using 'df.method({col: value}, inplace=True)' or df[col] = df[col].method(value) instead, to perform the operation inplace on the original object.\n",
      "\n",
      "\n",
      "  raw_data['bc_open_to_buy'].fillna(0,inplace=True)\n",
      "C:\\Users\\sithu\\AppData\\Local\\Temp\\ipykernel_1636\\3323639719.py:4: FutureWarning: A value is trying to be set on a copy of a DataFrame or Series through chained assignment using an inplace method.\n",
      "The behavior will change in pandas 3.0. This inplace method will never work because the intermediate object on which we are setting values always behaves as a copy.\n",
      "\n",
      "For example, when doing 'df[col].method(value, inplace=True)', try using 'df.method({col: value}, inplace=True)' or df[col] = df[col].method(value) instead, to perform the operation inplace on the original object.\n",
      "\n",
      "\n",
      "  raw_data['num_tl_120dpd_2m'].fillna(0,inplace=True)\n",
      "C:\\Users\\sithu\\AppData\\Local\\Temp\\ipykernel_1636\\3323639719.py:5: FutureWarning: A value is trying to be set on a copy of a DataFrame or Series through chained assignment using an inplace method.\n",
      "The behavior will change in pandas 3.0. This inplace method will never work because the intermediate object on which we are setting values always behaves as a copy.\n",
      "\n",
      "For example, when doing 'df[col].method(value, inplace=True)', try using 'df.method({col: value}, inplace=True)' or df[col] = df[col].method(value) instead, to perform the operation inplace on the original object.\n",
      "\n",
      "\n",
      "  raw_data['bc_util'].fillna(0,inplace=True)\n",
      "C:\\Users\\sithu\\AppData\\Local\\Temp\\ipykernel_1636\\3323639719.py:6: FutureWarning: A value is trying to be set on a copy of a DataFrame or Series through chained assignment using an inplace method.\n",
      "The behavior will change in pandas 3.0. This inplace method will never work because the intermediate object on which we are setting values always behaves as a copy.\n",
      "\n",
      "For example, when doing 'df[col].method(value, inplace=True)', try using 'df.method({col: value}, inplace=True)' or df[col] = df[col].method(value) instead, to perform the operation inplace on the original object.\n",
      "\n",
      "\n",
      "  raw_data['percent_bc_gt_75'].fillna(0,inplace=True)\n"
     ]
    }
   ],
   "source": [
    "raw_data['mths_since_rcnt_il'].fillna(0,inplace=True)\n",
    "raw_data['mo_sin_old_il_acct'].fillna(0,inplace=True)\n",
    "raw_data['bc_open_to_buy'].fillna(0,inplace=True)\n",
    "raw_data['num_tl_120dpd_2m'].fillna(0,inplace=True)\n",
    "raw_data['bc_util'].fillna(0,inplace=True)\n",
    "raw_data['percent_bc_gt_75'].fillna(0,inplace=True)"
   ]
  },
  {
   "cell_type": "code",
   "execution_count": 101,
   "id": "e2d64285-9930-4a7b-a565-14c65f2f0088",
   "metadata": {},
   "outputs": [
    {
     "name": "stderr",
     "output_type": "stream",
     "text": [
      "C:\\Users\\sithu\\AppData\\Local\\Temp\\ipykernel_1636\\2581724249.py:1: FutureWarning: A value is trying to be set on a copy of a DataFrame or Series through chained assignment using an inplace method.\n",
      "The behavior will change in pandas 3.0. This inplace method will never work because the intermediate object on which we are setting values always behaves as a copy.\n",
      "\n",
      "For example, when doing 'df[col].method(value, inplace=True)', try using 'df.method({col: value}, inplace=True)' or df[col] = df[col].method(value) instead, to perform the operation inplace on the original object.\n",
      "\n",
      "\n",
      "  raw_data['all_util'].fillna(raw_data['all_util'].mean(),inplace = True)\n",
      "C:\\Users\\sithu\\AppData\\Local\\Temp\\ipykernel_1636\\2581724249.py:2: FutureWarning: A value is trying to be set on a copy of a DataFrame or Series through chained assignment using an inplace method.\n",
      "The behavior will change in pandas 3.0. This inplace method will never work because the intermediate object on which we are setting values always behaves as a copy.\n",
      "\n",
      "For example, when doing 'df[col].method(value, inplace=True)', try using 'df.method({col: value}, inplace=True)' or df[col] = df[col].method(value) instead, to perform the operation inplace on the original object.\n",
      "\n",
      "\n",
      "  raw_data['avg_cur_bal'].fillna(raw_data['avg_cur_bal'].mean(),inplace = True)\n"
     ]
    }
   ],
   "source": [
    "raw_data['all_util'].fillna(raw_data['all_util'].mean(),inplace = True)\n",
    "raw_data['avg_cur_bal'].fillna(raw_data['avg_cur_bal'].mean(),inplace = True)"
   ]
  },
  {
   "cell_type": "markdown",
   "id": "ddc8eef2-b212-44d1-9195-657a233d3021",
   "metadata": {},
   "source": [
    "### Formatting data "
   ]
  },
  {
   "cell_type": "code",
   "execution_count": 108,
   "id": "c39e043e-7be7-4d98-ae38-8c728fd1fac6",
   "metadata": {},
   "outputs": [
    {
     "data": {
      "text/plain": [
       "array(['10+ years', '6 years', '4 years', '< 1 year', '2 years',\n",
       "       '9 years', 0, '5 years', '3 years', '7 years', '1 year', '8 years'],\n",
       "      dtype=object)"
      ]
     },
     "execution_count": 108,
     "metadata": {},
     "output_type": "execute_result"
    }
   ],
   "source": [
    "pd.unique(raw_data['emp_length'].values) # returns the unique values in the dataFrame as an array"
   ]
  },
  {
   "cell_type": "code",
   "execution_count": 110,
   "id": "756c14cc-d62d-4c70-aaf0-157650919b27",
   "metadata": {},
   "outputs": [],
   "source": [
    "raw_data['emp_length'].fillna(0,inplace=True) #Replacing NaN values with 0 "
   ]
  },
  {
   "cell_type": "code",
   "execution_count": 112,
   "id": "3fbb604b-c8cd-467b-ba09-a344cdacc42e",
   "metadata": {},
   "outputs": [],
   "source": [
    "def CalculateEmployeeLength(year): #creating a function for geting numerical data for 'emp_length' column\n",
    "    if year == '< 1 year': \n",
    "        return 0.5 \n",
    "    elif year == '10+ years': \n",
    "        return 10 \n",
    "    else: \n",
    "        yr=str(year) \n",
    "        return yr.rstrip(' years') "
   ]
  },
  {
   "cell_type": "code",
   "execution_count": 116,
   "id": "9db3f84b-81f2-4d5b-a09b-0a22aeed56fc",
   "metadata": {},
   "outputs": [],
   "source": [
    "raw_data['emp_length']=raw_data['emp_length'].apply(CalculateEmployeeLength) #apply the created function on emp_length column to convert the years in to numeric format"
   ]
  },
  {
   "cell_type": "code",
   "execution_count": 118,
   "id": "9e6a8259-25d7-465b-8049-ed21c960e373",
   "metadata": {},
   "outputs": [
    {
     "data": {
      "text/plain": [
       "array([10, '6', '4', 0.5, '2', '9', '0', '5', '3', '7', '1', '8'],\n",
       "      dtype=object)"
      ]
     },
     "execution_count": 118,
     "metadata": {},
     "output_type": "execute_result"
    }
   ],
   "source": [
    "pd.unique(raw_data['emp_length'].values) #check the output data"
   ]
  },
  {
   "cell_type": "markdown",
   "id": "37b577f3-1317-45e0-af37-51cb5413ff46",
   "metadata": {},
   "source": [
    "### Visualizing data"
   ]
  },
  {
   "cell_type": "code",
   "execution_count": 122,
   "id": "894f6e32-276b-4029-a678-faa8afc0c00b",
   "metadata": {},
   "outputs": [
    {
     "data": {
      "text/plain": [
       "array([ 2500, 30000,  5000,  4000,  5550,  2000,  6000,  5500, 28000,\n",
       "       11200,  6500, 22000,  3500,  7000, 25000, 16000, 13000, 10000,\n",
       "        9600, 15000, 23000,  8000, 32075, 12000,  3300, 20000,  2200,\n",
       "        1250, 10400,  7500,  9000, 40000, 14400, 22400, 26000,  1000,\n",
       "       29450, 34625, 31450, 15500, 36000,  3000, 35000, 26500, 10250,\n",
       "       27000, 24000, 21000,  3775,  5600,  8500, 22650, 11000, 18000,\n",
       "        5525,  2525, 32000, 18500,  1500,  8800, 10500,  8250,  3600,\n",
       "       10450, 17100, 10475, 15400, 16800,  4500, 14000, 29625,  7075,\n",
       "        5400, 20400,  8425, 16500, 34575,  1200,  4800,  7200, 27975,\n",
       "        6600, 20300,  5100,  6025, 21600, 17425,  1300, 32500,  8400,\n",
       "       36950, 31200, 30800, 11500, 31000,  1600, 14425, 36425, 12500,\n",
       "       15600, 19200,  9375,  2700, 15450, 20500, 19000, 34800, 20075,\n",
       "       19375, 22500, 38000,  3125, 11025, 18400, 22950,  7150, 27200,\n",
       "       27500,  7800, 14225,  3200,  9500,  6200, 17000, 12950, 30500,\n",
       "        9900, 39500, 24900, 10300,  1700, 29000,  5800,  1950,  4600,\n",
       "       13500, 37000, 38500,  7025, 27950,  5300, 33000, 12400,  7650,\n",
       "       11700, 19700,  3375, 32625, 17500, 10800, 38800,  2800, 29050,\n",
       "       16850, 12600, 31025, 12700,  4400,  2400,  7400, 24825, 16375,\n",
       "        9350,  7300,  1900, 16200,  4300, 22900, 34000,  2825, 16875,\n",
       "       17600, 25425, 12325, 21800, 11350,  4200,  9925,  3450, 14500,\n",
       "       10200, 34450, 34750,  2100, 15200, 28500, 11600,  6250, 35375,\n",
       "       23400, 21250,  6400, 14700, 37900, 31500,  4100,  1400, 26600,\n",
       "        5575, 33600, 21775,  3475, 11575, 25600,  3025, 29350,  9400,\n",
       "       11875,  6050, 30375, 20975, 32475, 19800,  8750, 22600, 11375,\n",
       "       10700,  6800, 12975, 31975,  6300,  1800, 34400, 19575,  4900,\n",
       "       19500, 29750, 33500, 37200, 29575, 34925, 35800, 31750, 13575,\n",
       "        8825,  7475, 30175,  8200, 28800, 25850, 36600,  2300, 13400,\n",
       "        9200,  6925, 29900, 21500, 23500, 35500, 33300, 32325,  2750,\n",
       "       18600, 14450, 12800, 25300,  5850, 23100, 27600, 23800,  9125,\n",
       "       17400,  9100, 33625, 15700, 11250, 12475, 30900, 11400,  3800,\n",
       "        5200, 16700, 39000, 20800, 32275, 13800, 24500, 25500,  4625,\n",
       "       17450,  9800, 25550,  6550,  4150, 35525, 33350, 13875, 38250,\n",
       "       18200, 34050, 19550, 20950,  4325, 13225, 34425, 18975, 34900,\n",
       "       37800,  6625, 10125, 35825, 28475, 21575,  3900,  4750, 20125,\n",
       "        9650, 25750, 22375, 25575, 30875, 11150,  4700, 22550, 13675,\n",
       "       18900, 20925,  7250, 22025, 31150, 12550,  8525, 28600, 13700,\n",
       "       11750, 18625, 10600, 10725, 15250, 10750, 37825, 12900,  2850,\n",
       "        7950, 26850,  9050, 17700,  3400,  9025, 26400, 30600, 23325,\n",
       "       36050, 36500, 16075, 25825,  9700,  3525, 21200, 20175, 14350,\n",
       "       23200, 30650,  9300,  5475, 24800, 29300, 39200,  2075, 23050,\n",
       "       24400, 24350, 19750,  5750, 15900, 35975, 20200,  2650, 37775,\n",
       "       26825, 13200, 22325, 33925, 24025, 14950, 26325, 12750,  4950,\n",
       "       20725, 13550, 34100,  5250, 15525,  2900, 26300,  6775, 38775,\n",
       "       16925, 38925, 10850, 19075, 33700,  9750,  6475, 37725,  4225,\n",
       "       13600, 20375,  8600, 36150,  7325, 26975, 34500,  8450, 32800,\n",
       "        6100, 30850,  5275, 17200, 35425, 36575, 10325, 27400, 17250,\n",
       "       36825, 22100,  7100, 13825, 22800, 37500, 11125, 38475,  8150,\n",
       "       12050, 17550, 17800, 18925,  7825,  7700, 25150, 12300, 13375,\n",
       "        8900, 17575, 29375, 10100,  3750, 16675, 28700, 35325, 30525,\n",
       "        9575,  5650,  3100, 26800, 36250, 18800, 29650,  4050, 14200,\n",
       "       24975, 13525, 30950, 12200, 28425, 34975, 19525, 32100, 32550,\n",
       "        8700, 13300, 25200,  7600,  4650, 26250,  5875, 12725, 11050,\n",
       "       27575, 20325,  5925, 15950, 38750, 29250, 20625,  3700,  7375,\n",
       "        3625, 26725,  7925,  5125, 12250, 10650, 27275,  4675,  1925,\n",
       "        9775, 18725,  4250,  1850, 16400,  6825,  7750, 29675, 22250,\n",
       "       24725, 18050, 35050, 26375, 27800, 27450, 29875,  4575, 32400,\n",
       "       21650,  3150, 12025,  5350, 25225, 15350, 27350, 11950,  3075,\n",
       "        8075, 29600, 30925, 33825,  6700, 10550, 29025,  1650, 22300,\n",
       "       16550,  6275, 34525, 13325, 22775,  8300,  4425, 34075,  8925,\n",
       "        8375, 32700, 19150,  6900, 32200,  8125,  5700, 31100, 10575,\n",
       "        3350,  8175, 14850,  1550, 11300, 14900, 15850, 20700, 22425,\n",
       "       16325,  1100, 38875,  2600,  4550, 14775, 24675, 12625,  5950,\n",
       "       12150, 16225, 34850, 29775, 23425, 35225,  1375, 22200, 13275,\n",
       "       30700, 35300,  5150, 16025, 15075,  1675, 35200, 18700,  4850,\n",
       "       12825, 21275, 16600,  3275, 10175, 20875, 34675, 17950,  6650,\n",
       "       17375, 22350, 14100, 36200, 11075, 34225,  6675, 23900, 27650,\n",
       "       21175, 36850,  7525, 26050, 36400, 31600,  5050, 20575, 18675,\n",
       "       19025, 29275, 19400, 15150,  6750, 11650, 22150, 24875, 16725,\n",
       "        6450, 33400,  5375, 13125,  5325,  9850,  4450, 17075, 31400,\n",
       "       29800,  3850, 36550, 19600,  7875,  5900, 31300,  1325, 39350,\n",
       "        6425,  8875, 15825, 11725, 21375, 14825, 17275, 21550, 29400,\n",
       "       26350,  7775, 30825, 10075,  7175, 13450, 28725, 22575, 27300,\n",
       "       28300, 23350, 15100, 35250, 13350, 31550, 17125, 18575, 12100,\n",
       "        8100,  2250, 37125,  8725, 11900,  6350, 30450, 12875, 20250,\n",
       "        3325, 36750,  2475,  4775, 20100, 21025, 15475,  6850, 14800,\n",
       "       22825, 24850, 22625, 20425, 32725, 15750,  4175, 24550, 10425,\n",
       "        8575, 24950,  6725,  4350, 16650, 24575, 34550, 38400, 23125,\n",
       "        7900, 22725,  7625, 14600, 17225,  8650, 30475, 17350, 19950,\n",
       "       21125, 34725, 29950, 32825, 33525,  3675, 13250, 11525, 11800,\n",
       "       26150, 21850, 30775, 16525, 36350, 35600,  6325, 39525, 34175,\n",
       "       20275, 19275, 15025,  4725, 16775, 11475, 19925, 23275,  9325,\n",
       "       33550, 26925, 26950, 39700,  2675, 27100, 13850, 21750, 37550,\n",
       "       24325,  9950, 20850, 22175, 26650, 17900, 10925, 16150, 22225,\n",
       "       31475, 33875,  9150,  3950, 14300, 22525, 35275, 12225, 29500,\n",
       "       28575, 12425,  3050, 10900,  8225, 32575, 32450, 29725, 39075,\n",
       "       28150, 24200,  1450, 18750, 36375, 29200,  4875, 21525, 28825,\n",
       "       12525,  9875, 26200, 21625, 12350, 15625, 32775,  6125, 28350,\n",
       "        5825, 38200, 11850, 19300, 30075, 18475, 34350,  7225, 21300,\n",
       "        7425, 14575, 24775, 23650, 39175, 27750, 17975, 19100, 18175,\n",
       "       30100, 37700, 22125, 23175, 30725, 31250, 33425, 11550, 29700,\n",
       "       26775,  9275, 25775, 26875, 19050, 30325, 34200, 10275, 33175,\n",
       "       14325, 21475, 20675, 20350, 36900,  1075, 33100, 24625,  2150,\n",
       "       24425, 19975, 15575, 21075, 11775, 13175, 28950,  2975, 33075,\n",
       "       20025, 25450], dtype=int64)"
      ]
     },
     "execution_count": 122,
     "metadata": {},
     "output_type": "execute_result"
    }
   ],
   "source": [
    "pd.unique(raw_data['loan_amnt'].values)"
   ]
  },
  {
   "cell_type": "code",
   "execution_count": 132,
   "id": "4ac11c5a-c704-47fe-adfa-d5c5dfe93823",
   "metadata": {},
   "outputs": [],
   "source": [
    "def CalculateLoanRanges(value): #The function takes a loan value and returns the range the loan amount is.\n",
    "    if value <= 5000: \n",
    "        return '5K and Below' \n",
    "    if value > 5000 and value <= 10000: \n",
    "        return '5K-10K' \n",
    "    if value > 10000 and value <= 15000: \n",
    "        return '10K-15K' \n",
    "    if value > 15000 and value <= 20000: \n",
    "        return '15K-20K' \n",
    "    if value > 20000 and value <= 25000: \n",
    "        return '20K-25K' \n",
    "    if value > 25000 and value <= 30000: \n",
    "        return '25K-30K' \n",
    "    if value > 30000 : \n",
    "        return '30K and Above' \n",
    "    return 'Other'"
   ]
  },
  {
   "cell_type": "code",
   "execution_count": 134,
   "id": "14389ca7-78f5-482b-b0d8-58bdb17f0a97",
   "metadata": {},
   "outputs": [],
   "source": [
    "loan_ranges = raw_data['loan_amnt'].apply(CalculateLoanRanges) #call the function above on the values of loan_amnt column"
   ]
  },
  {
   "cell_type": "code",
   "execution_count": 136,
   "id": "d3b7ec67-dddf-4426-a74a-bd81e3f2c3cb",
   "metadata": {},
   "outputs": [
    {
     "data": {
      "text/plain": [
       "loan_amnt\n",
       "5K-10K           5063\n",
       "10K-15K          3472\n",
       "15K-20K          3118\n",
       "5K and Below     2898\n",
       "30K and Above    2268\n",
       "20K-25K          1834\n",
       "25K-30K          1347\n",
       "Name: count, dtype: int64"
      ]
     },
     "execution_count": 136,
     "metadata": {},
     "output_type": "execute_result"
    }
   ],
   "source": [
    "loan_ranges.value_counts() #count how many loan amounts are there in each range"
   ]
  },
  {
   "cell_type": "code",
   "execution_count": null,
   "id": "6826e11b-953b-4597-b4cf-8d5228265b2f",
   "metadata": {},
   "outputs": [],
   "source": [
    "#plot a Pie Chart"
   ]
  },
  {
   "cell_type": "code",
   "execution_count": 138,
   "id": "898dba26-9bcf-426c-a413-95b9c863d5dc",
   "metadata": {},
   "outputs": [
    {
     "data": {
      "text/plain": [
       "Text(0.5, 1.0, 'Pie Chart of Loan Amount')"
      ]
     },
     "execution_count": 138,
     "metadata": {},
     "output_type": "execute_result"
    },
    {
     "data": {
      "image/png": "[encoded data removed]",
      "text/plain": [
       "<Figure size 640x480 with 1 Axes>"
      ]
     },
     "metadata": {},
     "output_type": "display_data"
    }
   ],
   "source": [
    "f = plt.figure() #using \" plt.figure()\" method to create a figure\n",
    "loan_ranges.value_counts().plot.pie(autopct='%1.0f%%',) #using \"plot.pie()\" method for draw a pie chart\n",
    "plt.title('Pie Chart of Loan Amount') #using \" plt.title()\" method to add a title"
   ]
  },
  {
   "cell_type": "code",
   "execution_count": 140,
   "id": "abcdfbcb-e764-47cc-a2a0-e0ccba265fca",
   "metadata": {},
   "outputs": [],
   "source": [
    "#plot a Bar Chart"
   ]
  },
  {
   "cell_type": "code",
   "execution_count": 142,
   "id": "4ea8a2e9-d762-4541-b8cb-36ccee584c70",
   "metadata": {},
   "outputs": [
    {
     "data": {
      "text/plain": [
       "<Axes: xlabel='purpose'>"
      ]
     },
     "execution_count": 142,
     "metadata": {},
     "output_type": "execute_result"
    },
    {
     "data": {
      "image/png": "[encoded data removed]",
      "text/plain": [
       "<Figure size 640x480 with 1 Axes>"
      ]
     },
     "metadata": {},
     "output_type": "display_data"
    }
   ],
   "source": [
    "pur = raw_data['purpose'].value_counts() \n",
    "pur.plot(kind='bar') "
   ]
  },
  {
   "cell_type": "markdown",
   "id": "7b1ea678-06a1-4001-a553-26cbd6b427bb",
   "metadata": {},
   "source": [
    "### Save the cleaned data in a new csv file"
   ]
  },
  {
   "cell_type": "code",
   "execution_count": 145,
   "id": "c16f2fb0-961f-4b04-9c32-871f4e8eeea2",
   "metadata": {},
   "outputs": [],
   "source": [
    "raw_data.to_csv('cleaned_loans2007.csv', index=False,encoding='utf-8')"
   ]
  }
 ],
 "metadata": {
  "kernelspec": {
   "display_name": "Python 3 (ipykernel)",
   "language": "python",
   "name": "python3"
  },
  "language_info": {
   "codemirror_mode": {
    "name": "ipython",
    "version": 3
   },
   "file_extension": ".py",
   "mimetype": "text/x-python",
   "name": "python",
   "nbconvert_exporter": "python",
   "pygments_lexer": "ipython3",
   "version": "3.12.4"
  }
 },
 "nbformat": 4,
 "nbformat_minor": 5
}
